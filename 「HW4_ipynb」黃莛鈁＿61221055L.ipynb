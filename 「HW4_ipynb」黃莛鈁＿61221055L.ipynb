{
  "nbformat": 4,
  "nbformat_minor": 0,
  "metadata": {
    "colab": {
      "provenance": []
    },
    "kernelspec": {
      "name": "python3",
      "display_name": "Python 3"
    },
    "language_info": {
      "name": "python"
    }
  },
  "cells": [
    {
      "cell_type": "markdown",
      "source": [
        "# HW4_程式練習 (II)"
      ],
      "metadata": {
        "id": "bQ6YkMLxXGQt"
      }
    },
    {
      "cell_type": "markdown",
      "source": [
        "## 題目一 (25%)\n",
        "\n",
        "\n",
        "以下有一個 list：\n",
        "\n",
        "```\n",
        "numbers = [51, 30, 78, 20, 96, 40, 62]\n",
        "```\n",
        "\n",
        "### 任務內容\n",
        "1. 印出該 list 中的第 1 個數字、第 3 個數字與最後一個數字。\n",
        "2. 印出 list 中的最大值與最小值。\n",
        "3. 將 list 中的數字由小到大排序後印出。\n",
        "4. 計算並印出總和與平均值（平均值保留到小數點第 2 位）。\n",
        "5. 將大於等於 50 的數字存入新的 list，並印出此 list。\n",
        "\n",
        "\n"
      ],
      "metadata": {
        "id": "kXpZGNHGXhs1"
      }
    },
    {
      "cell_type": "code",
      "execution_count": null,
      "metadata": {
        "id": "zSvt9ox6WwQe"
      },
      "outputs": [],
      "source": [
        "numbers = [51, 30, 78, 20, 96, 40, 62]"
      ]
    },
    {
      "cell_type": "code",
      "source": [
        "print(numbers)"
      ],
      "metadata": {
        "colab": {
          "base_uri": "https://localhost:8080/"
        },
        "id": "vXxe6TxB0i5I",
        "outputId": "8a142586-a0ca-414f-8a07-0706d61efe7a"
      },
      "execution_count": null,
      "outputs": [
        {
          "output_type": "stream",
          "name": "stdout",
          "text": [
            "[51, 30, 78, 20, 96, 40, 62]\n"
          ]
        }
      ]
    },
    {
      "cell_type": "code",
      "source": [
        "print(numbers [0], numbers[2], numbers[-1])"
      ],
      "metadata": {
        "colab": {
          "base_uri": "https://localhost:8080/"
        },
        "id": "AfVjLVOZ6e0-",
        "outputId": "36e5d6c6-4cbe-463b-f21b-fd07311613a4"
      },
      "execution_count": null,
      "outputs": [
        {
          "output_type": "stream",
          "name": "stdout",
          "text": [
            "51 78 62\n"
          ]
        }
      ]
    },
    {
      "cell_type": "code",
      "source": [
        "print(max(numbers))"
      ],
      "metadata": {
        "colab": {
          "base_uri": "https://localhost:8080/"
        },
        "id": "C193O0fc62sV",
        "outputId": "0cebd6e9-8075-438e-d3e3-0286eb088e9a"
      },
      "execution_count": null,
      "outputs": [
        {
          "output_type": "stream",
          "name": "stdout",
          "text": [
            "96\n"
          ]
        }
      ]
    },
    {
      "cell_type": "code",
      "source": [
        "print(min(numbers))"
      ],
      "metadata": {
        "colab": {
          "base_uri": "https://localhost:8080/"
        },
        "id": "wkmR1FG37Uhb",
        "outputId": "3f61878c-fc76-4742-c925-c40fa2505b28"
      },
      "execution_count": null,
      "outputs": [
        {
          "output_type": "stream",
          "name": "stdout",
          "text": [
            "20\n"
          ]
        }
      ]
    },
    {
      "cell_type": "code",
      "source": [
        "sorted_numbers = sorted(numbers)\n",
        "print(sorted_numbers)"
      ],
      "metadata": {
        "colab": {
          "base_uri": "https://localhost:8080/"
        },
        "id": "irHV7_0C7bh9",
        "outputId": "46de7eeb-ead4-4517-edff-3cac5bf90ec8"
      },
      "execution_count": null,
      "outputs": [
        {
          "output_type": "stream",
          "name": "stdout",
          "text": [
            "[20, 30, 40, 51, 62, 78, 96]\n"
          ]
        }
      ]
    },
    {
      "cell_type": "code",
      "source": [
        "sum_numbers = sum(numbers)\n",
        "print(sum_numbers)"
      ],
      "metadata": {
        "colab": {
          "base_uri": "https://localhost:8080/"
        },
        "id": "SAxuKeME8XAF",
        "outputId": "9b5106b2-adf4-43df-c62e-de3d787b7395"
      },
      "execution_count": null,
      "outputs": [
        {
          "output_type": "stream",
          "name": "stdout",
          "text": [
            "377\n"
          ]
        }
      ]
    },
    {
      "cell_type": "code",
      "source": [
        "average = round(sum(numbers) / len(numbers), 2)\n",
        "print(average)"
      ],
      "metadata": {
        "colab": {
          "base_uri": "https://localhost:8080/"
        },
        "id": "Q1HBl_2-82PU",
        "outputId": "a03f5a44-3652-4abd-eebc-176ba3408ac7"
      },
      "execution_count": null,
      "outputs": [
        {
          "output_type": "stream",
          "name": "stdout",
          "text": [
            "53.86\n"
          ]
        }
      ]
    },
    {
      "cell_type": "code",
      "source": [
        "new_list = [num for num in numbers if num>=50]\n",
        "print(new_list)"
      ],
      "metadata": {
        "colab": {
          "base_uri": "https://localhost:8080/"
        },
        "id": "v5VIS1hh9trc",
        "outputId": "d7b5ff35-34a8-448f-a6f2-a9b1799ce68b"
      },
      "execution_count": null,
      "outputs": [
        {
          "output_type": "stream",
          "name": "stdout",
          "text": [
            "[51, 78, 96, 62]\n"
          ]
        }
      ]
    },
    {
      "cell_type": "markdown",
      "source": [
        "## 題目二 (25%)\n",
        "\n",
        "以下為一個包含亞洲國家及其首都的字典，但其中有一些錯誤資訊：\n",
        "\n",
        "```\n",
        "asian_countries = {\n",
        "    'Taiwan': 'Taipei',\n",
        "    'Japan': 'Tokyo',\n",
        "    'South Korea': 'Seoul',\n",
        "    'Myanmar': 'Yangon',\n",
        "    'Germany': 'Berlin'\n",
        "    }\n",
        "```\n",
        "\n",
        "### 任務內容\n",
        "1. 將 `asian_countries` 印出來：\n",
        "```\n",
        "print('舊字典:', asian_countries)\n",
        "```\n",
        "2.  更新 `asian_countries`：\n",
        "    - 將 Myanmar 的首都更正為 Naypyidaw\n",
        "    - 將 Germany 從字典中移除\n",
        "    - 將 Thailand 及其首都 Bangkok 新增到字典中\n",
        "\n",
        "  ```\n",
        "  print('新字典:', asian_countries)\n",
        "  ```\n",
        "3. 將國家按照字母排序，並將排序後的結果指派給一個變數 `sorted_asian_countries` 。\n",
        "  ```\n",
        "  print('排序後新字典:', sorted_asian_countries)\n",
        "  ```"
      ],
      "metadata": {
        "id": "jbgV6MGtXidj"
      }
    },
    {
      "cell_type": "code",
      "source": [
        "asian_countries = {'Taiwan': 'Taipei', 'Japan': 'Tokyo', 'South Korea': 'Seoul', 'Myanmar': 'Yangon', 'Germany': 'Berlin'}"
      ],
      "metadata": {
        "id": "Tq6zcAohXi6P"
      },
      "execution_count": null,
      "outputs": []
    },
    {
      "cell_type": "code",
      "source": [
        "print(asian_countries)"
      ],
      "metadata": {
        "colab": {
          "base_uri": "https://localhost:8080/"
        },
        "id": "5aUJ8BUU-3z8",
        "outputId": "303c0566-a640-40f8-a6ec-8354d78f3cb8"
      },
      "execution_count": null,
      "outputs": [
        {
          "output_type": "stream",
          "name": "stdout",
          "text": [
            "{'Taiwan': 'Taipei', 'Japan': 'Tokyo', 'South Korea': 'Seoul', 'Myanmar': 'Yangon', 'Germany': 'Berlin'}\n"
          ]
        }
      ]
    },
    {
      "cell_type": "code",
      "source": [
        "asian_countries['Myanmar'] = 'Napyidaw'\n",
        "print(asian_countries)"
      ],
      "metadata": {
        "colab": {
          "base_uri": "https://localhost:8080/"
        },
        "id": "G_kDJsccFPAd",
        "outputId": "86cca537-6f74-47b2-b61d-1fa9b255b428"
      },
      "execution_count": null,
      "outputs": [
        {
          "output_type": "stream",
          "name": "stdout",
          "text": [
            "{'Taiwan': 'Taipei', 'Japan': 'Tokyo', 'South Korea': 'Seoul', 'Myanmar': 'Napyidaw', 'Germany': 'Berlin'}\n"
          ]
        }
      ]
    },
    {
      "cell_type": "code",
      "source": [
        "del asian_countries['Germany']\n",
        "print(asian_countries)"
      ],
      "metadata": {
        "colab": {
          "base_uri": "https://localhost:8080/"
        },
        "id": "NJ8JyIpMFrkm",
        "outputId": "afce3890-6fbc-478a-86f1-f5085e34e376"
      },
      "execution_count": null,
      "outputs": [
        {
          "output_type": "stream",
          "name": "stdout",
          "text": [
            "{'Taiwan': 'Taipei', 'Japan': 'Tokyo', 'South Korea': 'Seoul', 'Myanmar': 'Napyidaw'}\n"
          ]
        }
      ]
    },
    {
      "cell_type": "code",
      "source": [
        "asian_countries['Thailand'] = 'Bangkok'\n",
        "print(asian_countries)"
      ],
      "metadata": {
        "colab": {
          "base_uri": "https://localhost:8080/"
        },
        "id": "-N1HvBvDGCv8",
        "outputId": "1e4a00ec-3f38-4013-cea1-7fb60e2408e3"
      },
      "execution_count": null,
      "outputs": [
        {
          "output_type": "stream",
          "name": "stdout",
          "text": [
            "{'Taiwan': 'Taipei', 'Japan': 'Tokyo', 'South Korea': 'Seoul', 'Myanmar': 'Napyidaw', 'Thailand': 'Bangkok'}\n"
          ]
        }
      ]
    },
    {
      "cell_type": "code",
      "source": [
        "sorted_asian_countries = sorted(asian_countries)\n",
        "print(sorted_asian_countries)"
      ],
      "metadata": {
        "colab": {
          "base_uri": "https://localhost:8080/"
        },
        "id": "efJ65G43GwqZ",
        "outputId": "abee3368-01a3-409c-b035-9e9aca958225"
      },
      "execution_count": null,
      "outputs": [
        {
          "output_type": "stream",
          "name": "stdout",
          "text": [
            "['Japan', 'Myanmar', 'South Korea', 'Taiwan', 'Thailand']\n"
          ]
        }
      ]
    },
    {
      "cell_type": "markdown",
      "source": [
        "## 題目三 (25%)\n",
        "\n",
        "班上有 4 位學生，他們分別有 3 科的考試成績，資料如下：\n",
        "\n",
        "```python\n",
        "scores = {\n",
        "    \"Linda\": [85, 90, 78],\n",
        "    \"Richard\": [72, 88, 91],\n",
        "    \"Una\": [90, 85, 87],\n",
        "    \"Brian\": [60, 75, 70]\n",
        "}\n",
        "```\n",
        "\n",
        "### 任務內容\n",
        "1. 計算每位學生的平均分數。\n",
        "2. 根據平均分數，判斷每位學生的成績評語：\n",
        "  - 平均分數 ≥ 85，評語為「優秀」\n",
        "  - 平均分數 ≥ 70 且 < 85，評語為「及格」\n",
        "  - 平均分數 < 70，評語為「需加強」\n",
        "\n",
        "3. 請印出每位學生的「平均分數」與「評語」。\n",
        "4. 額外統計：\n",
        "  - 計算全班的「總平均分數」。\n",
        "  - 找出「平均分數最高的學生」並印出其姓名與平均分數。\n",
        "\n",
        "\n"
      ],
      "metadata": {
        "id": "Hx3rNLDcZ-wy"
      }
    },
    {
      "cell_type": "code",
      "source": [
        "scores = {\n",
        "    \"Linda\": [85, 90, 78],\n",
        "    \"Richard\": [72, 88, 91],\n",
        "    \"Una\": [90, 85, 87],\n",
        "    \"Brian\": [60, 75, 70]\n",
        "\n",
        "}"
      ],
      "metadata": {
        "id": "bOx8kovoZ-_V"
      },
      "execution_count": null,
      "outputs": []
    },
    {
      "cell_type": "code",
      "source": [
        "total_avg_score = 0\n",
        "highest_avg = 0\n",
        "top_student = \"\""
      ],
      "metadata": {
        "id": "h3Lg_x2ZRIbY"
      },
      "execution_count": null,
      "outputs": []
    },
    {
      "cell_type": "code",
      "source": [
        "for student, marks in scores.items():\n",
        "  avg_score = round(sum(marks) / len(marks), 2)\n",
        "  total_avg_score += avg_score\n",
        "  if avg_score >= 85:\n",
        "    comment = '優秀'\n",
        "  elif avg_score >= 70:\n",
        "    comment = '及格'\n",
        "  else:\n",
        "    comment = '需加強'\n",
        "    print(f\"{student}\")"
      ],
      "metadata": {
        "colab": {
          "base_uri": "https://localhost:8080/"
        },
        "id": "1fqP5eIfCu9b",
        "outputId": "d5c71ea7-0776-41ed-aaa4-a8f7a8c7df57"
      },
      "execution_count": null,
      "outputs": [
        {
          "output_type": "stream",
          "name": "stdout",
          "text": [
            "{'Linda': 84.33, 'Richard': 83.67, 'Una': 87.33, 'Brian': 68.33}\n"
          ]
        }
      ]
    },
    {
      "cell_type": "code",
      "source": [
        "averages = {student: round(sum(grades)/ len(grades), 2) for student, grades in scores.items()}"
      ],
      "metadata": {
        "id": "xRUpDcV0P9rd"
      },
      "execution_count": null,
      "outputs": []
    },
    {
      "cell_type": "code",
      "source": [
        "comments = {}\n",
        "\n",
        "for student, avg in averages.items():\n",
        "  if avg >= 85:\n",
        "    comments[student]: '優秀'\n",
        "  elif avg >= 70:\n",
        "      comments[student]: '及格'\n",
        "  else:\n",
        "    comments[student]: '需加強'\n",
        "\n",
        "print(comments)"
      ],
      "metadata": {
        "colab": {
          "base_uri": "https://localhost:8080/"
        },
        "id": "dZ01S11JM9Zk",
        "outputId": "070001dd-f643-4720-a179-24fb36bd4d43"
      },
      "execution_count": null,
      "outputs": [
        {
          "output_type": "stream",
          "name": "stdout",
          "text": [
            "{}\n"
          ]
        }
      ]
    },
    {
      "cell_type": "markdown",
      "source": [
        "## 題目四 (25%)\n",
        "\n",
        "我們假設一組有效的密碼必須符合以下條件：\n",
        "\n",
        "- 長度大於 5 個字元\n",
        "- 必須包含：\n",
        "   - 大寫英文字母\n",
        "   - 小寫英文字母\n",
        "   - 數字\n",
        "- 不可以有空白  \n",
        "<br/>\n",
        "\n",
        "### 任務內容\n",
        "1. 請針對以上條件，撰寫一個函數 `check_password()`，判斷傳入的字串是否為有效密碼。如果輸入為有效密碼，函數將回傳 `Valid Password`；如果是無效密碼，函數回傳 `INVALID`。\n",
        "2. 請使用你的函數印出以下結果  \n",
        "```\n",
        "check_password(\"GenAI4Humanities\")\n",
        "check_password(\"genai4humanities\")\n",
        "check_password(\"GENAI4HUMANITIES\")\n",
        "check_password(\"GenAIGenAI\")\n",
        "check_password(\"GenAI 2025\")\n",
        "check_password(\"GenAI\")\n",
        "```"
      ],
      "metadata": {
        "id": "zSAycbMmZ_Ur"
      }
    },
    {
      "cell_type": "code",
      "source": [
        "import re\n",
        "\n",
        "def check_password(password):\n",
        "  if len(password) < 5:\n",
        "    return \"INVALID\"\n",
        "  if not re.search(r'[A-Z]', password):\n",
        "    return \"INVALID\"\n",
        "  if not re.search(r'[a-z]', password):\n",
        "    return \"INVALID\"\n",
        "  if not re.search(r'\\d', password):\n",
        "    return \"INVALID\"\n",
        "  if \" \" in password:\n",
        "    return \"INVALID\"\n",
        "  return \"Valid Password\"\n",
        "\n",
        "print(check_password(\"GenAI4Humanities\"))\n",
        "print(check_password(\"genai4humanities\"))\n",
        "print(check_password(\"GENAI4HUMANITIES\"))\n",
        "print(check_password(\"GenAIGenAI\"))\n",
        "print(check_password(\"GenAI 2025\"))\n",
        "print(check_password(\"GenAI\"))"
      ],
      "metadata": {
        "id": "tvYzrt9BaDkr",
        "colab": {
          "base_uri": "https://localhost:8080/"
        },
        "outputId": "00acdd04-3bf6-41ee-9267-0a73b1ad769e"
      },
      "execution_count": null,
      "outputs": [
        {
          "output_type": "stream",
          "name": "stdout",
          "text": [
            "Valid Password\n",
            "INVALID\n",
            "INVALID\n",
            "INVALID\n",
            "INVALID\n",
            "INVALID\n"
          ]
        }
      ]
    }
  ]
}